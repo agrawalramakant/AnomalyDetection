{
 "cells": [
  {
   "cell_type": "code",
   "execution_count": 21,
   "metadata": {
    "collapsed": false
   },
   "outputs": [
    {
     "name": "stdout",
     "output_type": "stream",
     "text": [
      "optimal bandwidth in original data 7.84759970351\n",
      "[-834.24291165 -834.24291165 -834.24291165 -834.24291165 -834.24291165\n",
      " -834.24291165 -834.24291165 -834.24291165 -834.24291165 -834.24291165\n",
      " -834.24291165 -834.24291165 -834.24291165 -834.24291165 -834.24291165\n",
      " -834.24291165 -834.24291165 -834.24291165 -834.24291165 -834.24291165\n",
      " -834.24291165 -834.24291165 -834.24291165 -834.24291165 -834.24291165\n",
      " -834.24291165 -834.24291165 -834.24291165 -834.24291165 -834.24291165\n",
      " -834.24291165 -834.24291165 -834.24291165 -834.24291165 -834.24291165\n",
      " -834.24291165 -834.24291165 -834.24291165 -834.24291165 -834.24291165\n",
      " -834.24291165 -834.24291165 -834.24291165 -834.24291165 -834.24291165\n",
      " -834.24291165 -834.24291165 -834.24291165 -834.24291165 -834.24291165\n",
      " -834.24291165 -834.24291165 -834.24291165 -834.24291165 -834.24291165\n",
      " -834.24291165 -834.24291165 -834.24291165 -834.24291165 -834.24291165\n",
      " -834.24291165 -834.24291165 -834.24291165 -834.24291165 -834.24291165\n",
      " -834.24291165 -834.24291165 -834.24291165 -834.24291165 -834.24291165\n",
      " -834.24291165 -834.24291165 -834.24291165 -834.24291165 -834.24291165\n",
      " -834.24291165 -834.24291165 -834.24291165 -834.24291165 -834.24291165\n",
      " -834.24291165 -834.24291165 -834.24291165 -834.24291165 -834.24291165\n",
      " -834.24291165 -834.24291165 -834.24291165 -834.24291165 -834.24291165\n",
      " -834.24291165 -834.24291165 -834.24291165 -834.24291165 -834.24291165\n",
      " -834.24291165 -834.24291165 -834.24291165 -834.24291165 -834.24291165\n",
      " -834.24291165 -834.24291165 -834.24291165 -834.24291165 -834.24291165\n",
      " -834.24291165 -834.24291165 -834.24291165 -834.24291165 -834.24291165\n",
      " -834.24291165 -834.24291165 -834.24291165 -834.24291165 -834.24291165\n",
      " -834.24291165 -834.24291165 -834.24291165 -834.24291165 -834.24291165\n",
      " -834.24291165 -834.24291165 -834.24291165 -834.24291165 -834.24291165\n",
      " -834.24291165 -834.24291165 -834.24291165 -834.24291165 -834.24291165\n",
      " -834.24291165 -834.24291165 -834.24291165 -834.24291165 -834.24291165\n",
      " -834.24291165 -834.24291165 -834.24291165 -834.24291165 -834.24291165\n",
      " -834.24291165 -834.24291165 -834.24291165 -834.24291165 -834.24291165\n",
      " -834.24291165 -834.24291165 -834.24291165 -834.24291165 -834.24291165\n",
      " -834.24291165 -834.24291165 -834.24291165 -834.24291165 -834.24291165\n",
      " -834.24291165 -834.24291165 -834.24291165 -834.24291165 -834.24291165\n",
      " -834.24291165 -834.24291165 -834.24291165 -834.24291165 -834.24291165\n",
      " -834.24291165 -834.24291165 -834.24291165 -834.24291165 -834.24291165\n",
      " -834.24291165 -834.24291165 -834.24291165 -834.24291165 -834.24291165\n",
      " -834.24291165 -834.24291165 -834.24291165 -834.24291165 -834.24291165\n",
      " -834.24291165 -834.24291165 -834.24291165 -834.24291165 -834.24291165\n",
      " -834.24291165 -834.24291165 -834.24291165 -834.24291165 -834.24291165\n",
      " -834.24291165 -834.24291165 -834.24291165 -834.24291165 -834.24291165\n",
      " -834.24291165 -834.24291165 -834.24291165 -834.24291165 -834.24291165\n",
      " -834.24291165 -834.24291165 -834.24291165 -834.24291165 -834.24291165\n",
      " -834.24291165 -834.24291165 -834.24291165 -834.24291165 -834.24291165\n",
      " -834.24291165 -834.24291165 -834.24291165 -834.24291165 -834.24291165\n",
      " -834.24291165 -834.24291165 -834.24291165 -834.24291165 -834.24291165\n",
      " -834.24291165 -834.24291165 -834.24291165 -834.24291165 -834.24291165\n",
      " -834.24291165 -834.24291165 -834.24291165 -834.24291165 -834.24291165\n",
      " -834.24291165 -834.24291165 -834.24291165 -834.24291165 -834.24291165\n",
      " -834.24291165 -834.24291165 -834.24291165 -834.24291165 -834.24291165\n",
      " -834.24291165 -834.24291165 -834.24291165 -834.24291165 -834.24291165\n",
      " -834.24291165 -834.24291165 -834.24291165 -834.24291165 -834.24291165\n",
      " -834.24291165 -834.24291165 -834.24291165 -834.24291165 -834.24291165\n",
      " -834.24291165 -834.24291165 -834.24291165 -834.24291165 -834.24291165\n",
      " -834.24291165 -834.24291165 -834.24291165 -834.24291165 -834.24291165\n",
      " -834.24291165 -834.24291165 -834.24291165 -834.24291165 -834.24291165\n",
      " -834.24291165 -834.24291165 -834.24291165 -834.24291165 -834.24291165\n",
      " -834.24291165 -834.24291165 -834.24291165 -834.24291165 -834.24291165\n",
      " -834.24291165 -834.24291165 -834.24291165 -834.24291165 -834.24291165\n",
      " -834.24291165 -834.24291165 -834.24291165 -834.24291165 -834.24291165\n",
      " -834.24291165 -834.24291165 -834.24291165 -834.24291165 -834.24291165\n",
      " -834.24291165 -834.24291165 -834.24291165 -834.24291165 -834.24291165\n",
      " -834.24291165 -834.24291165 -834.24291165 -834.24291165 -834.24291165\n",
      " -834.24291165 -834.24291165 -834.24291165 -834.24291165 -834.24291165\n",
      " -834.24291165 -834.24291165 -834.24291165 -834.24291165 -834.24291165\n",
      " -834.24291165 -834.24291165 -834.24291165 -834.24291165 -834.24291165\n",
      " -834.24291165 -834.24291165 -834.24291165 -834.24291165 -834.24291165\n",
      " -834.24291165 -834.24291165 -834.24291165 -834.24291165 -834.24291165\n",
      " -834.24291165 -834.24291165 -834.24291165 -834.24291165 -834.24291165\n",
      " -834.24291165 -834.24291165 -834.24291165 -834.24291165 -834.24291165\n",
      " -834.24291165 -834.24291165 -834.24291165 -834.24291165 -834.24291165\n",
      " -834.24291165 -834.24291165 -834.24291165 -834.24291165 -834.24291165\n",
      " -834.24291165 -834.24291165 -834.24291165 -834.24291165 -834.24291165\n",
      " -834.24291165 -834.24291165 -834.24291165 -834.24291165 -834.24291165\n",
      " -834.24291165 -834.24291165 -834.24291165 -834.24291165 -834.24291165\n",
      " -834.24291165 -834.24291165 -834.24291165 -834.24291165 -834.24291165\n",
      " -834.24291165 -834.24291165 -834.24291165 -834.24291165 -834.24291165\n",
      " -834.24291165 -834.24291165 -834.24291165 -834.24291165 -834.24291165\n",
      " -834.24291165 -834.24291165 -834.24291165 -834.24291165 -834.24291165\n",
      " -834.24291165 -834.24291165 -834.24291165 -834.24291165 -834.24291165\n",
      " -834.24291165 -834.24291165 -834.24291165 -834.24291165 -834.24291165\n",
      " -834.24291165 -834.24291165 -834.24291165 -834.24291165 -834.24291165\n",
      " -834.24291165 -834.24291165 -834.24291165 -834.24291165 -834.24291165\n",
      " -834.24291165 -834.24291165 -834.24291165 -834.24291165 -834.24291165\n",
      " -834.24291165 -834.24291165 -834.24291165 -834.24291165 -834.24291165\n",
      " -834.24291165 -834.24291165 -834.24291165 -834.24291165 -834.24291165]\n",
      "[ 0.  0.  0.  0.  0.  0.  0.  0.  0.  0.  0.  0.  0.  0.  0.  0.  0.  0.\n",
      "  0.  0.]\n"
     ]
    }
   ],
   "source": [
    "from scipy import io\n",
    "import numpy as np\n",
    "# from matplotlib.mlab import PCA\n",
    "from sklearn.neighbors import KernelDensity\n",
    "from sklearn.model_selection import GridSearchCV\n",
    "from sklearn.preprocessing import normalize\n",
    "\n",
    "\n",
    "\n",
    "from sklearn.decomposition import PCA\n",
    "# from sklearn.cross_validation import train_test_split\n",
    "import matplotlib.pyplot as plt\n",
    "\n",
    "\n",
    "\n",
    "\n",
    "data = io.loadmat(\"oc_514.mat\")\n",
    "\n",
    "dataset = data['x'][0][0][0]\n",
    "#finding the optimal bandwidth using cross validation\n",
    "def apply_KDE(train_dataset, test_dataset=None):\n",
    "    if test_dataset is None:\n",
    "        test_dataset = train_dataset\n",
    "    params = {'bandwidth' : np.logspace(-1,1, 20)}\n",
    "    grid = GridSearchCV(KernelDensity(), params)\n",
    "    grid.fit(train_dataset)\n",
    "\n",
    "    print \"optimal bandwidth in original data\", grid.best_estimator_.bandwidth\n",
    "    kde_skl = KernelDensity( bandwidth=grid.best_estimator_.bandwidth)\n",
    "    kde_skl.fit(train_dataset)\n",
    "    log_pdf = kde_skl.score_samples(test_dataset)\n",
    "\n",
    "    return log_pdf\n",
    "    \n",
    "log_pdf = apply_KDE(dataset)\n",
    "print log_pdf\n",
    "print np.exp(log_pdf)[0:20]"
   ]
  },
  {
   "cell_type": "markdown",
   "metadata": {},
   "source": [
    "The output is in log format and if we calculate the probability density then its coming out to be 0. KDE does not perform well with higher number of feature and from the data source it has been learnt that 50 features are sufficient to find the covariance in the dataset upto 98-99 percent. Thus stripping down to 50 features can be a good idea.\n",
    "\n",
    "Since different feature are in different format so normalization of all the features would be helpful before doing PCA."
   ]
  },
  {
   "cell_type": "code",
   "execution_count": 22,
   "metadata": {
    "collapsed": false
   },
   "outputs": [
    {
     "name": "stdout",
     "output_type": "stream",
     "text": [
      "optimal bandwidth in original data 0.1\n",
      "[  4.52586998e+27   1.23652816e+28   2.92889951e+27   6.73733831e+27\n",
      "   2.67527331e+27   1.37630699e+28   3.00244926e+27   1.74174712e+28\n",
      "   1.64329188e+28   3.91180145e+27   1.57606704e+28   4.62981599e+27\n",
      "   7.91528047e+27   1.53248739e+28   1.77999444e+28   6.77682298e+27\n",
      "   4.32121835e+27   6.19888266e+27   4.94953080e+27   8.28026911e+27\n",
      "   9.79982102e+27   3.00520518e+28   1.65659764e+28   1.62184294e+28\n",
      "   2.77371299e+27   5.91236944e+27   1.03161973e+28   2.68123037e+27\n",
      "   2.70407941e+27   2.97685044e+27   8.64608650e+27   1.99743510e+28\n",
      "   1.70504012e+28   1.29957985e+28   1.38311172e+28   1.38747727e+28\n",
      "   1.00355205e+28   7.85149971e+27   2.99281808e+27   1.41136686e+28\n",
      "   1.73713401e+28   1.02469068e+28   9.50371168e+27   5.05934377e+27\n",
      "   4.45683208e+27   9.05843590e+27   1.65114014e+28   1.10006952e+28\n",
      "   7.59425438e+27   1.26401631e+28   2.76065755e+28   8.32403356e+27\n",
      "   5.46090286e+27   1.65874940e+28   2.90476977e+27   9.40476571e+27\n",
      "   9.30565317e+27   2.78542443e+27   2.16808897e+28   2.98397783e+28\n",
      "   1.18110469e+28   2.86577592e+27   1.79251639e+28   1.76630322e+28\n",
      "   5.76744082e+27   1.21540518e+28   1.98152272e+28   5.53084836e+27\n",
      "   1.40792956e+28   9.51224336e+27   1.31334997e+28   7.31108998e+27\n",
      "   2.64397836e+27   7.22547816e+27   1.28195350e+28   9.22997709e+27\n",
      "   8.59022360e+27   8.08536190e+27   1.38871242e+28   3.26742064e+27\n",
      "   3.52651518e+27   2.64760225e+27   3.36329608e+27   6.56911736e+27\n",
      "   2.65476584e+27   2.97469869e+27   6.63111738e+27   9.18280390e+27\n",
      "   7.96596629e+27   2.73672360e+27   4.54820471e+27   5.45706343e+27\n",
      "   1.14899511e+28   6.05576753e+27   2.76533773e+27   7.07782013e+27\n",
      "   4.19785512e+27   2.65265852e+27   3.98050454e+27   1.32681500e+28\n",
      "   3.21969236e+27   2.16155266e+28   7.32142553e+27   3.25737618e+27\n",
      "   1.36936971e+28   3.75144985e+28   3.39365011e+27   1.58727784e+28\n",
      "   1.58812069e+28   6.70727819e+27   5.20028208e+27   3.62693988e+28\n",
      "   1.97742145e+28   1.18521253e+28   8.00983886e+27   3.82385602e+27\n",
      "   1.16435858e+28   1.35646715e+28   4.23788789e+27   8.41006808e+27\n",
      "   1.29060875e+28   7.95225933e+27   1.07309043e+28   2.69108716e+28\n",
      "   1.97063353e+28   3.19659374e+28   7.28222160e+27   2.38719201e+28\n",
      "   4.85372873e+27   9.25660865e+27   1.83798545e+28   1.35448969e+28\n",
      "   2.69259015e+27   1.60029871e+28   1.99148288e+28   1.51819286e+28\n",
      "   7.60023922e+27   5.75919894e+27   1.15239322e+28   2.49871556e+28\n",
      "   1.28584875e+28   2.03848035e+28   8.93864649e+27   8.14539142e+27\n",
      "   6.72047965e+27   1.95297201e+28   1.20047243e+28   2.51262347e+28\n",
      "   1.23995002e+28   5.84696214e+27   1.17421980e+28   1.65986513e+28\n",
      "   1.09744358e+28   1.36696741e+28   9.63748761e+27   2.63970530e+28\n",
      "   1.63021448e+28   6.83285904e+27   5.47274030e+27   2.02285097e+28\n",
      "   4.49015998e+27   6.33606453e+27   6.39015156e+27   1.81956761e+28\n",
      "   8.98475131e+27   8.46173455e+27   1.61099016e+28   5.45669506e+27\n",
      "   3.18371069e+27   1.76564520e+28   1.54026245e+28   4.70632571e+27\n",
      "   3.34887507e+27   2.77969683e+27   3.13327491e+27   9.76282673e+27\n",
      "   4.89527244e+27   3.46533372e+27   2.91337897e+27   2.76808349e+27\n",
      "   8.84282042e+27   4.61081657e+27   1.48640694e+28   1.70174025e+28\n",
      "   1.35704300e+28   7.61328954e+27   2.84288026e+27   3.18630759e+27\n",
      "   9.28246790e+27   3.15154703e+27   2.66209899e+28   1.25558422e+28\n",
      "   1.51440862e+28   2.90732101e+27   8.22732052e+27   1.44155470e+28\n",
      "   3.21704549e+27   6.34011988e+27   2.97291371e+27   4.13845135e+27\n",
      "   1.95963975e+28   3.34780243e+27   2.66937161e+27   1.45646720e+28\n",
      "   1.04897560e+28   1.31310394e+28   1.04449842e+28   1.37108437e+28\n",
      "   2.75380750e+27   5.57472364e+27   4.48443091e+27   8.29417676e+27\n",
      "   9.85845631e+27   1.60253665e+28   3.26755131e+27   1.63011117e+28\n",
      "   8.02197416e+27   7.01820116e+27   3.02420088e+27   1.50181264e+28\n",
      "   3.75528926e+27   8.54589648e+27   2.63658270e+28   1.06033044e+28\n",
      "   2.65099348e+28   3.10906870e+27   4.18678539e+27   1.64928344e+28\n",
      "   2.88411250e+27   7.08832149e+27   5.72296413e+27   3.80333579e+27\n",
      "   2.72765848e+27   5.80087981e+27   1.56952830e+28   2.81013714e+27\n",
      "   2.68709533e+27   1.36477967e+28   4.79802885e+27   6.93901300e+27\n",
      "   1.27900501e+28   2.19196197e+28   2.09959794e+28   2.16309214e+28\n",
      "   1.28181022e+28   1.65694259e+28   3.55774838e+27   5.24423133e+27\n",
      "   1.37966671e+28   2.31549846e+28   2.65193610e+27   2.23675893e+28\n",
      "   2.06946107e+28   1.33105321e+28   1.38302065e+28   4.76585676e+27\n",
      "   8.15707734e+27   1.33379498e+28   7.72470494e+27   4.43851588e+27\n",
      "   1.52809314e+28   1.12236918e+28   2.96133189e+27   2.60666507e+28\n",
      "   2.43174660e+28   9.19809866e+27   8.77668886e+27   7.41099750e+27\n",
      "   4.82729323e+27   5.91531580e+27   2.66195404e+27   2.77060447e+27\n",
      "   6.09318204e+27   2.79161622e+27   2.64395473e+27   6.33447007e+27\n",
      "   8.84123454e+27   5.47980016e+27   2.68622058e+27   3.17277728e+27\n",
      "   7.79314446e+27   2.66509745e+27   5.96877605e+27   1.92312677e+28\n",
      "   7.21249147e+27   2.84061454e+27   2.64765870e+27   1.84431638e+28\n",
      "   1.22126715e+28   2.69259015e+27   2.52578598e+28   6.99855772e+27\n",
      "   3.76390450e+27   2.72163738e+27   8.05314364e+27   3.45169556e+27\n",
      "   2.92675666e+27   3.57609300e+27   3.29581422e+28   9.03430047e+27\n",
      "   2.69112765e+27   5.47432817e+27   3.00327184e+27   8.69727553e+27\n",
      "   7.47356343e+27   7.48033176e+27   1.60500123e+28   6.31256973e+27\n",
      "   4.87319838e+27   3.76756451e+27   1.79015559e+28   1.69831857e+28\n",
      "   7.78891108e+27   8.11281050e+27   7.37105422e+27   2.73789295e+28\n",
      "   1.29925577e+28   8.90726960e+27   2.05558492e+28   1.45796315e+28\n",
      "   7.60343223e+27   2.71826015e+27   1.09864728e+28   2.65706900e+27\n",
      "   3.61050278e+27   2.65722539e+27   2.64459066e+27   6.05969738e+27\n",
      "   3.32792392e+27   6.71095024e+27   6.54717009e+27   2.67676354e+27\n",
      "   2.71876507e+27   7.58839085e+27   1.01235460e+28   1.27833119e+28\n",
      "   6.37343596e+27   2.77285764e+27   3.96741553e+27   5.00869080e+27\n",
      "   6.45819770e+27   2.88774298e+27   4.43868695e+27   9.86277639e+27\n",
      "   4.98760385e+27   9.56211466e+27   3.11333408e+27   1.23033721e+28\n",
      "   2.72610540e+28   2.64529100e+27   3.20664689e+27   2.64933078e+27\n",
      "   1.70922527e+28   8.33471006e+27   8.33656777e+27   6.67440519e+27\n",
      "   2.81130169e+27   7.28055398e+27   2.70714966e+27   2.66198217e+27\n",
      "   2.05682186e+28   6.92248438e+27   2.30323353e+28   2.64544026e+27\n",
      "   6.06388241e+27   2.65794125e+27   8.07204932e+27   7.42166151e+27\n",
      "   3.33024905e+27   1.65384327e+28   2.59015349e+28   4.70396947e+27\n",
      "   6.87352859e+27   2.64395693e+27   1.36853619e+28   1.12699204e+28\n",
      "   1.59559364e+28   3.63446226e+27   5.67653257e+27   6.21398621e+27\n",
      "   3.86832566e+27   1.06197075e+28   1.05715034e+28   5.24801688e+27\n",
      "   9.40875857e+27   6.14532354e+27   2.68531493e+27   1.48349393e+28\n",
      "   5.93785242e+27   1.24587648e+28   2.21486583e+28   9.10243061e+27\n",
      "   2.64416928e+27   2.28534975e+28   1.28585499e+28   2.65080340e+27\n",
      "   2.86649664e+27   4.18791287e+27   2.65323697e+27   3.13655893e+28\n",
      "   3.24289959e+27   2.77739549e+27   5.84692587e+27   3.61098088e+28\n",
      "   1.21386947e+28   1.78556863e+28   6.00562910e+27   1.39469225e+28\n",
      "   2.64949026e+28   1.22276483e+28   6.84660714e+27   8.55676591e+27\n",
      "   1.15316625e+28   1.04042948e+28   2.10135609e+28   5.82366994e+27\n",
      "   3.37378937e+27   2.64396927e+27   7.11324276e+27   1.08394584e+28]\n"
     ]
    }
   ],
   "source": [
    "normalised_dataset = normalize(dataset)\n",
    "#applying PCA for 50 features\n",
    "pca = PCA(n_components=50)\n",
    "dataset_pca= pca.fit_transform(normalised_dataset)\n",
    "log_pdf_pca = apply_KDE(dataset_pca)\n",
    "print np.exp(log_pdf_pca)"
   ]
  },
  {
   "cell_type": "markdown",
   "metadata": {},
   "source": [
    "It provides a better result then previous approach. But it may be over fitting as we are validating the eximation against the training set only.\n",
    "To really understand the performance, Cross validation can be used. Test set is contructed from the last 80 data points from the whole data set to validate the performance."
   ]
  },
  {
   "cell_type": "code",
   "execution_count": 23,
   "metadata": {
    "collapsed": false
   },
   "outputs": [
    {
     "name": "stdout",
     "output_type": "stream",
     "text": [
      "optimal bandwidth in original data 0.1\n",
      "[  3.98150094e+27   2.86149609e+26   1.93827636e+27   7.54380371e+27\n",
      "   2.19027900e+27   7.68803266e+27   5.33313925e+26   9.57105516e+27\n",
      "   2.54904474e+28   1.06267246e+24   5.58173332e+26   6.55003960e+24\n",
      "   1.42186903e+28   6.42808095e+27   5.84760597e+27   4.26246297e+27\n",
      "   1.55013106e+26   4.78698866e+27   7.34328652e+25   2.02247765e+25\n",
      "   1.87871351e+28   4.00858705e+27   1.99755178e+28   1.82700917e+24\n",
      "   3.35580319e+27   1.72578667e+25   5.00156937e+27   4.82372602e+27\n",
      "   8.10372943e+26   1.50241029e+28   2.22054802e+28   2.10560421e+27\n",
      "   4.29356644e+27   2.66226382e+21   1.05174089e+28   8.88546076e+27\n",
      "   1.32145389e+28   8.41138089e+26   2.93351375e+27   3.64574310e+27\n",
      "   1.19534753e+27   8.77005540e+27   8.30309757e+27   2.80796279e+27\n",
      "   6.99272792e+27   3.27211189e+27   4.51852702e+25   1.23857834e+28\n",
      "   3.25531436e+27   1.05748007e+28   1.96453865e+28   6.10192834e+27\n",
      "   2.41563502e+23   1.89176676e+28   9.60670173e+27   7.58402670e+24\n",
      "   2.45019175e+26   1.57325988e+27   8.97924537e+24   2.94839025e+28\n",
      "   6.58574892e+26   1.30523748e+26   3.63841420e+27   3.34689919e+28\n",
      "   9.64301281e+27   1.62593468e+28   3.68637136e+27   1.20409740e+28\n",
      "   2.37745597e+28   9.13781561e+27   4.84567633e+27   6.05170795e+27\n",
      "   9.06401037e+27   8.03197239e+27   1.80346745e+28   3.51778164e+27\n",
      "   7.44650139e+26   2.01410523e+21   3.83791478e+27   8.31227360e+27]\n"
     ]
    }
   ],
   "source": [
    "# train, test = train_test_split(dataset_pca, test_size = 0.2)\n",
    "no_of_train_data = 340\n",
    "train = dataset_pca[0:no_of_train_data]\n",
    "test = dataset_pca[no_of_train_data:len(dataset_pca)]\n",
    "log_pdf_pca_cross_validation = apply_KDE(train, test)\n",
    "print np.exp(log_pdf_pca_cross_validation)"
   ]
  },
  {
   "cell_type": "markdown",
   "metadata": {},
   "source": [
    "Since the data set has around 45% of outliers, no function will perform good. Lets see how are the results after removing the outliers.\n",
    "\n",
    "\n"
   ]
  },
  {
   "cell_type": "code",
   "execution_count": 24,
   "metadata": {
    "collapsed": false
   },
   "outputs": [
    {
     "name": "stdout",
     "output_type": "stream",
     "text": [
      "The size of training dataset without outliers is  188\n",
      "Below indices are the outliers in the test data set:\n"
     ]
    }
   ],
   "source": [
    "outlier_info = data['x'][0][0][2]\n",
    "\n",
    "# train_without_outlier = dataset_pca[0:no_of_train_data]\n",
    "# test_without_outlier = dataset_pca[no_of_train_data:len(dataset_pca)]\n",
    "# print dataset_without_outliers\n",
    "train_dataset_without_outliers = []\n",
    "for item in range(0,no_of_train_data):\n",
    "    if(outlier_info[item][0] == 2):\n",
    "        train_dataset_without_outliers.append(dataset_pca[item])\n",
    "                                        \n",
    "print \"The size of training dataset without outliers is \",len(train_dataset_without_outliers)\n",
    "print(\"Below indices are the outliers in the test data set:\")\n",
    "# indices of the outliers in the test data set\n",
    "outlier_indices_test = []\n",
    "for item in range(0,len(dataset_pca)-no_of_train_data):\n",
    "    if(outlier_info[item+no_of_train_data][0] == 1):\n",
    "        outlier_indices_test.append(item)"
   ]
  },
  {
   "cell_type": "code",
   "execution_count": 25,
   "metadata": {
    "collapsed": false
   },
   "outputs": [
    {
     "name": "stdout",
     "output_type": "stream",
     "text": [
      "optimal bandwidth in original data 0.1\n",
      "[  4.66220683e+27   4.31851339e+25   2.73229258e+27   1.08106909e+28\n",
      "   3.07717995e+27   9.93956643e+27   7.05116020e+26   1.38202373e+28\n",
      "   3.36909268e+28   1.38353609e+23   5.66693065e+26   7.68580211e+23\n",
      "   2.12395066e+28   9.58307916e+27   7.08199427e+27   6.38433648e+27\n",
      "   1.87545044e+26   6.11450719e+27   1.23994981e+23   1.07072754e+25\n",
      "   2.46774062e+28   5.70778507e+27   2.84482613e+28   1.56112187e+24\n",
      "   3.38308793e+27   3.42331763e+23   7.27142306e+27   4.92144701e+27\n",
      "   1.52653926e+26   1.95092981e+28   3.26152800e+28   2.54653680e+27\n",
      "   5.99319868e+27   3.99466815e+19   1.48602133e+28   1.27705425e+28\n",
      "   1.87100865e+28   1.21039939e+27   2.57625113e+27   4.58299687e+27\n",
      "   1.31835450e+27   1.13720148e+28   9.57293149e+27   3.93669104e+27\n",
      "   7.51747524e+27   4.11662542e+27   2.12775735e+25   1.65240612e+28\n",
      "   4.04045564e+27   1.43610312e+28   2.68059342e+28   8.94934741e+27\n",
      "   2.05249279e+23   2.75446645e+28   1.35058491e+28   4.94588523e+24\n",
      "   3.22701095e+26   1.66579648e+27   3.93249520e+24   4.12978765e+28\n",
      "   7.62555850e+26   8.89990186e+24   5.47786210e+27   4.82761931e+28\n",
      "   1.31851947e+28   2.20164204e+28   4.57946337e+27   1.50124574e+28\n",
      "   3.26222090e+28   1.29389467e+28   6.95716635e+27   6.52006756e+27\n",
      "   1.28365328e+28   1.06467932e+28   2.37469453e+28   5.64471410e+27\n",
      "   1.04600943e+27   1.39468192e+21   5.84452148e+27   1.11546891e+28]\n"
     ]
    }
   ],
   "source": [
    "# since the size of dataset is very small the size of test set is reduced to 25\n",
    "# train, test = train_test_split(dataset_pca, test_size = 0.1)\n",
    "\n",
    "log_pdf_pca_cross_validation_without_outlier = apply_KDE(train_dataset_without_outliers, test)\n",
    "print np.exp(log_pdf_pca_cross_validation_without_outlier)\n"
   ]
  },
  {
   "cell_type": "markdown",
   "metadata": {},
   "source": [
    "Applying the one class SVM. as we have already seen that cross validation is a nice approach to go ahead to check the performance of the algorithm. We will use test and training data set for the one class SVM"
   ]
  },
  {
   "cell_type": "markdown",
   "metadata": {},
   "source": [
    "# One class SVM\n"
   ]
  },
  {
   "cell_type": "code",
   "execution_count": 27,
   "metadata": {
    "collapsed": false
   },
   "outputs": [
    {
     "name": "stdout",
     "output_type": "stream",
     "text": [
      "[ 1. -1.  1.  1. -1.  1. -1.  1.  1. -1. -1. -1.  1.  1. -1.  1. -1.  1.\n",
      " -1. -1.  1. -1.  1. -1. -1. -1.  1. -1. -1.  1.  1. -1.  1. -1.  1. -1.\n",
      "  1. -1. -1. -1. -1.  1.  1. -1.  1.  1. -1.  1.  1.  1.  1.  1. -1.  1.\n",
      "  1. -1. -1. -1. -1.  1. -1. -1. -1.  1.  1.  1.  1. -1.  1. -1. -1.  1.\n",
      "  1.  1.  1. -1. -1. -1. -1.  1.]\n",
      "[1, 4, 5, 6, 9, 10, 11, 14, 16, 17, 18, 25, 27, 28, 30, 31, 33, 39, 40, 41, 46, 52, 55, 57, 58, 59, 60, 61, 71, 76, 77]\n",
      "Total no of outlier in test dataset =  31\n",
      "Total no of predicted outliers =  40\n",
      "Total no of correct outlier predicted =  25\n",
      "Total no of inliers predicted as outliers =  15\n",
      "Total no of outliers predicted inliers =  6\n"
     ]
    }
   ],
   "source": [
    "from sklearn import svm \n",
    "estimator = svm.OneClassSVM(gamma=0.0001)\n",
    "estimator.fit(train)\n",
    "prediction_svm = estimator.predict(test)\n",
    "print prediction_svm\n",
    "\n",
    "outlier_indices_test = []\n",
    "for item in range(0, len(dataset) - no_of_train_data):\n",
    "    if (outlier_info[item + no_of_train_data][0] == 1):\n",
    "        outlier_indices_test.append(item)\n",
    "print(outlier_indices_test)\n",
    "\n",
    "predicted_outlier_count = 0\n",
    "correct_outlier_prediction = 0\n",
    "for item in range(len(prediction_svm)):\n",
    "    if(item in outlier_indices_test and prediction_svm[item] == -1):\n",
    "        correct_outlier_prediction += 1\n",
    "    if prediction_svm[item] == -1:\n",
    "        predicted_outlier_count += 1\n",
    "\n",
    "print \"Total no of outlier in test dataset = \",len(outlier_indices_test)        \n",
    "print \"Total no of predicted outliers = \",predicted_outlier_count\n",
    "print \"Total no of correct outlier predicted = \", correct_outlier_prediction\n",
    "print \"Total no of inliers predicted as outliers = \", predicted_outlier_count - correct_outlier_prediction\n",
    "print \"Total no of outliers predicted inliers = \",len(outlier_indices_test) - correct_outlier_prediction\n"
   ]
  },
  {
   "cell_type": "markdown",
   "metadata": {},
   "source": [
    "# Local Factor Outlier"
   ]
  },
  {
   "cell_type": "code",
   "execution_count": 28,
   "metadata": {
    "collapsed": false
   },
   "outputs": [
    {
     "name": "stdout",
     "output_type": "stream",
     "text": [
      "actual no of outliers =  183\n",
      "detected outliers =  338\n",
      "correct outlier detected =  121\n",
      "no of outliers detected as inliers =  62\n",
      "no of inliers detected as outliers =  217\n"
     ]
    }
   ],
   "source": [
    "from sklearn.neighbors import NearestNeighbors\n",
    "\n",
    "minPts = 27\n",
    "\n",
    "# calculating nearest point to minimum points\n",
    "minPtsNN = NearestNeighbors(n_neighbors=minPts).fit(dataset_pca)\n",
    "reach_dists, reach_Idx = minPtsNN.kneighbors(dataset_pca)\n",
    "#print reach_dists\n",
    "\n",
    "for index in range(minPts):\n",
    "    reach_dists[:,index] = np.amax(reach_dists,axis=1)\n",
    "#print reach_dists\n",
    "#caulating the lrd matrix from the reachability matrix\n",
    "lrd_minPts = minPts/np.sum(reach_dists, axis=1)\n",
    "#print lrd_minPts\n",
    "lof_score = []\n",
    "\n",
    "#according to the equation of the lof, calculating the lof score\n",
    "for index in reach_Idx:\n",
    "    lof_score.append(np.divide(reach_dists[index[1:]], reach_dists[index[0]]).sum()/minPts)\n",
    "\n",
    "#print lof_score\n",
    "\n",
    "outlier_threshold = 20\n",
    "detected_outlier = []\n",
    "for index in range(len(lof_score)):\n",
    "    if lof_score[index] > outlier_threshold:\n",
    "        detected_outlier.append(index)\n",
    "\n",
    "outlier_indices = []\n",
    "for item in range(0, len(dataset_pca)):\n",
    "    if (outlier_info[item][0] == 1):\n",
    "        outlier_indices.append(item)\n",
    "#print(outlier_indices)\n",
    "\n",
    "no_correct_outlier = 0\n",
    "for index in detected_outlier:\n",
    "    if index in outlier_indices:\n",
    "        no_correct_outlier += 1\n",
    "\n",
    "print \"actual no of outliers = \", len(outlier_indices)\n",
    "print \"detected outliers = \", len(detected_outlier)\n",
    "print \"correct outlier detected = \", no_correct_outlier\n",
    "print \"no of outliers detected as inliers = \",len(outlier_indices) - no_correct_outlier\n",
    "print \"no of inliers detected as outliers = \",len(detected_outlier) - no_correct_outlier\n"
   ]
  }
 ],
 "metadata": {
  "anaconda-cloud": {},
  "kernelspec": {
   "display_name": "Python 2",
   "language": "python",
   "name": "python2"
  },
  "language_info": {
   "codemirror_mode": {
    "name": "ipython",
    "version": 2
   },
   "file_extension": ".py",
   "mimetype": "text/x-python",
   "name": "python",
   "nbconvert_exporter": "python",
   "pygments_lexer": "ipython2",
   "version": "2.7.12"
  }
 },
 "nbformat": 4,
 "nbformat_minor": 1
}
