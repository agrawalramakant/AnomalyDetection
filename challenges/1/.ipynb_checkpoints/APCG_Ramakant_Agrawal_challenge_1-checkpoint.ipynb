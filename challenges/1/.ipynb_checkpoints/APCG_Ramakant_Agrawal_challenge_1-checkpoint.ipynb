{
 "cells": [
  {
   "cell_type": "code",
   "execution_count": 21,
   "metadata": {
    "collapsed": false
   },
   "outputs": [],
   "source": [
    "import numpy as np\n",
    "\n",
    "#Missing Fillers\n",
    "no_pixel = 9\n",
    "no_spectrum = 4\n",
    "\n",
    "ZERO = 0\n",
    "COL_MEAN = 1\n",
    "COL_MEDIAN = 2\n",
    "COL_MODE = 3\n",
    "COL_MAX = 4\n",
    "ROW_MEAN = 5\n",
    "ROW_MEDIAN = 6\n",
    "ROW_MODE = 7\n",
    "ROW_MAX = 8\n",
    "SPECTRAL_ROW_MODE = 9\n",
    "INTERPOLATE = 10\n",
    "SPECTRAL_ROW_MEAN = 11\n",
    "\n",
    "raw_train = np.genfromtxt(\"sat-train.csv.dat\", delimiter=\",\")\n",
    "raw_test = np.genfromtxt(\"sat-test-data.csv.dat\", delimiter=\",\")\n",
    "train_data = raw_train[:,:-1]\n",
    "train_truth = raw_train[:,-1]\n",
    "test_data = raw_test\n",
    "\n"
   ]
  },
  {
   "cell_type": "code",
   "execution_count": null,
   "metadata": {
    "collapsed": true
   },
   "outputs": [],
   "source": []
  },
  {
   "cell_type": "markdown",
   "metadata": {},
   "source": [
    "# Preprocessing\n",
    "The input has all the spectrum data spreaded, so bring them together"
   ]
  },
  {
   "cell_type": "code",
   "execution_count": 22,
   "metadata": {
    "collapsed": true
   },
   "outputs": [],
   "source": [
    "def preprocessing_pixels(data, no_pixel, no_spectrum):\n",
    "    re_arrange = []\n",
    "    for index in range(len(data)):\n",
    "        spectrums = []\n",
    "        split = np.hsplit(data[index],no_pixel)\n",
    "        for pixel in range(no_pixel):\n",
    "            for spec in range(no_spectrum):\n",
    "                if len(spectrums) < no_spectrum:\n",
    "                    spectrums.append([])\n",
    "                spectrums[spec].append(split[pixel][spec])\n",
    "\n",
    "        re_arrange.append(np.hstack((spectrums[0],spectrums[1],spectrums[2],spectrums[3])))\n",
    "\n",
    "    return np.array(re_arrange)\n",
    "\n",
    "processesed_train_data = preprocessing_pixels(train_data,no_pixel,no_spectrum)\n",
    "processesed_test_data = preprocessing_pixels(test_data,no_pixel,no_spectrum)"
   ]
  },
  {
   "cell_type": "markdown",
   "metadata": {},
   "source": [
    "# Filling missing Values\n",
    "There are a lot of Nan in the data, so finding a proper algorithm for filling the missing values"
   ]
  },
  {
   "cell_type": "code",
   "execution_count": 23,
   "metadata": {
    "collapsed": true
   },
   "outputs": [],
   "source": [
    "def spectral_modification(data, method):\n",
    "    spectrums = np.hsplit(data, 4)\n",
    "    spectrum0 = fill_in_missing_value(spectrums[0], method)\n",
    "    spectrum1 = fill_in_missing_value(spectrums[1], method)\n",
    "    spectrum2 = fill_in_missing_value(spectrums[2], method)\n",
    "    spectrum3 = fill_in_missing_value(spectrums[3], method)\n",
    "    return np.hstack((spectrum0, spectrum1, spectrum2, spectrum3))\n",
    "\n",
    "def fill_in_missing_value(data, method):\n",
    "    idx = np.where(np.isnan(data))\n",
    "    if method == COL_MODE:\n",
    "        mask = ma.masked_where(data == np.nan, data)\n",
    "        data[idx[0], idx[1]] = stats.mstats.mode(mask, axis=0)[0][0, idx[1]]\n",
    "    if method == ROW_MODE:\n",
    "        mask = ma.masked_where(data == np.nan, data)\n",
    "        data[idx[0], idx[1]] = stats.mstats.mode(mask, axis=1)[0][idx[0], 0]\n",
    "    if method == SPECTRAL_ROW_MODE:\n",
    "        data = spectral_modification(data, ROW_MODE)\n",
    "    if method == SPECTRAL_ROW_MEAN:\n",
    "        data = spectral_modification(data, ROW_MEAN)\n",
    "    if method == INTERPOLATE:\n",
    "        index = np.isnan(data)\n",
    "        data[index] = np.interp(np.flatnonzero(index), np.flatnonzero(~index), data[~index])\n",
    "    if method == COL_MEAN:\n",
    "        data[idx[0], idx[1]] = np.nanmean(data, axis=0)[idx[1]]\n",
    "    if method == ROW_MEAN:\n",
    "        data[idx[0], idx[1]] = np.nanmean(data, axis=1)[idx[0]]\n",
    "    return data\n",
    "\n"
   ]
  },
  {
   "cell_type": "code",
   "execution_count": 24,
   "metadata": {
    "collapsed": false
   },
   "outputs": [],
   "source": [
    "data_without_missing = fill_in_missing_value(processesed_train_data, INTERPOLATE)\n",
    "test_without_missing = fill_in_missing_value(processesed_test_data, INTERPOLATE)"
   ]
  },
  {
   "cell_type": "markdown",
   "metadata": {},
   "source": [
    "# Feature reduction\n",
    "Used PCA and VarianceThreshold\n",
    "For PCA, finding the proper number of features is also important, scree plot is used to find the number of features"
   ]
  },
  {
   "cell_type": "code",
   "execution_count": 25,
   "metadata": {
    "collapsed": false
   },
   "outputs": [
    {
     "data": {
      "image/png": "[encoded data removed]",
      "text/plain": [
       "<matplotlib.figure.Figure at 0x108cf7c50>"
      ]
     },
     "metadata": {},
     "output_type": "display_data"
    }
   ],
   "source": [
    "import matplotlib\n",
    "import matplotlib.pyplot as plt\n",
    "\n",
    "U, S, V = np.linalg.svd(data_without_missing) \n",
    "eigvals = S**2 / np.cumsum(S)[-1]\n",
    "\n",
    "# print eigvals\n",
    "\n",
    "fig = plt.figure(figsize=(8,5))\n",
    "sing_vals = np.arange(36) + 1\n",
    "plt.plot(sing_vals, eigvals, 'ro-', linewidth=2)\n",
    "plt.title('Scree Plot')\n",
    "plt.xlabel('Principal Component')\n",
    "plt.ylabel('Eigenvalue')\n",
    " \n",
    "leg = plt.legend(['Eigenvalues from SVD'], loc='best', borderpad=0.3, \n",
    "                 shadow=False, prop=matplotlib.font_manager.FontProperties(size='small'),\n",
    "                 markerscale=0.4)\n",
    "leg.get_frame().set_alpha(0.4)\n",
    "leg.draggable(state=True)\n",
    "plt.show()"
   ]
  },
  {
   "cell_type": "markdown",
   "metadata": {},
   "source": [
    "Did not get any important information from the scree plot\n",
    "Applying PCA"
   ]
  },
  {
   "cell_type": "code",
   "execution_count": 26,
   "metadata": {
    "collapsed": false
   },
   "outputs": [],
   "source": [
    "from sklearn.decomposition import PCA\n",
    "pca = PCA(n_components=10)\n",
    "#data_without_missing = pca.fit_transform(data_without_missing)\n",
    "#test_without_missing = pca.fit_transform(test_without_missing)\n"
   ]
  },
  {
   "cell_type": "code",
   "execution_count": null,
   "metadata": {
    "collapsed": true
   },
   "outputs": [],
   "source": []
  },
  {
   "cell_type": "code",
   "execution_count": 27,
   "metadata": {
    "collapsed": true
   },
   "outputs": [],
   "source": [
    "from sklearn.feature_selection import VarianceThreshold\n",
    "#data_without_missing = VarianceThreshold(threshold=(.8 * (1 - .8))).fit_transform(data_without_missing)\n",
    "#test_without_missing = VarianceThreshold(threshold=(.8 * (1 - .8))).fit_transform(test_without_missing)"
   ]
  },
  {
   "cell_type": "markdown",
   "metadata": {},
   "source": [
    "# Classification\n",
    "We are aware that there are only 2 classes and we need to classify our data set into these 2 clusters. It is a supervised learning problem so we will use some types of classifiers to perform the same."
   ]
  },
  {
   "cell_type": "code",
   "execution_count": 28,
   "metadata": {
    "collapsed": true
   },
   "outputs": [],
   "source": [
    "from sklearn.ensemble import RandomForestClassifier\n",
    "clf = RandomForestClassifier(n_estimators=10)\n",
    "\n",
    "#from sklearn.neural_network import MLPClassifier\n",
    "# clf = MLPClassifier(hidden_layer_sizes=(5,2), random_state= 1)\n",
    "\n",
    "#from sklearn.neighbors import KNeighborsClassifier\n",
    "#clf = KNeighborsClassifier(n_neighbors=3)\n",
    "\n",
    "# from sklearn.naive_bayes import GaussianNB\n",
    "# clf = GaussianNB()\n",
    "\n",
    "#from sklearn import svm\n",
    "# clf = svm.SVC(kernel='linear')\n",
    "\n",
    "clf.fit(data_without_missing, train_truth)\n",
    "prediction = clf.predict(test_without_missing)"
   ]
  },
  {
   "cell_type": "markdown",
   "metadata": {},
   "source": [
    "# Writing the result (required for Kaggle)"
   ]
  },
  {
   "cell_type": "code",
   "execution_count": 29,
   "metadata": {
    "collapsed": true
   },
   "outputs": [],
   "source": [
    "with open(\"Predictions_inter_new_1.csv\", \"w\") as f:\n",
    "    f.write(\"Id,Expected\" + \"\\n\")\n",
    "    for i in range(len(prediction)):\n",
    "        f.write(str(i + 1) + \",\" + str(int(prediction[i])) + \"\\n\")"
   ]
  }
 ],
 "metadata": {
  "kernelspec": {
   "display_name": "Python 2",
   "language": "python",
   "name": "python2"
  },
  "language_info": {
   "codemirror_mode": {
    "name": "ipython",
    "version": 2
   },
   "file_extension": ".py",
   "mimetype": "text/x-python",
   "name": "python",
   "nbconvert_exporter": "python",
   "pygments_lexer": "ipython2",
   "version": "2.7.12"
  }
 },
 "nbformat": 4,
 "nbformat_minor": 1
}
